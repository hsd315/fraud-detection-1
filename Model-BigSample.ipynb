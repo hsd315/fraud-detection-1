{
 "cells": [
  {
   "cell_type": "code",
   "execution_count": 2,
   "metadata": {},
   "outputs": [],
   "source": [
    "import numpy as np\n",
    "import pandas as pd\n",
    "import matplotlib.pyplot as plt\n",
    "import matplotlib.gridspec as gd\n",
    "import seaborn as sns\n",
    "%matplotlib inline\n",
    "\n",
    "np.random.seed(7)\n",
    "\n",
    "import xgboost\n",
    "from sklearn import svm\n",
    "\n",
    "class FraudDetector:\n",
    "    \"\"\" Class than can be used to find fraud transactions and their amounts \"\"\"\n",
    "    \n",
    "    def __init__(self):\n",
    "        self.trained = False\n",
    "        \n",
    "    def fit( self, x, y_fraud, y_amount ):\n",
    "        \"\"\" Training function - takes X values, Y_fraud (sequence of 0 or 1) and Y_amount (positive floats) \"\"\"\n",
    "        \n",
    "        self.fraud_model = svm.SVC( kernel = \"poly\", C = 0.1 )\n",
    "        self.fraud_model.fit( x, y_fraud )\n",
    "        \n",
    "        self.amount_model = xgboost.XGBRegressor( n_estimators = 200, max_depth = 5, min_child_weight = 1, \n",
    "                                                  learning_rate = 0.1, gamma = 0.0 )\n",
    "        \n",
    "        # train model using fraudlent transactions only\n",
    "        fraud_ind = ( y_fraud == 1 )\n",
    "        self.amount_model.fit( x[fraud_ind], y_amount[fraud_ind] )\n",
    "        self.trained = True\n",
    "        \n",
    "    def predict( self, x ):\n",
    "        \"\"\" Takes X values and returns a tuple - fraud prediction and fraud amount \"\"\"\n",
    "        \n",
    "        if self.trained == 0:\n",
    "            raise Exception(\"Model must be trained\")\n",
    "        \n",
    "        ret1 = self.fraud_model.predict( x )\n",
    "        ret2 = self.amount_model.predict( x )\n",
    "        \n",
    "        # for non-fraudlent transaction the fraud amount is 0\n",
    "        ret2 = ret2 * ret1\n",
    "        \n",
    "        return ret1, ret2"
   ]
  },
  {
   "cell_type": "code",
   "execution_count": 9,
   "metadata": {},
   "outputs": [],
   "source": [
    "df=pd.read_csv(\"data.csv\")\n",
    "\n",
    "fr0 = df[df[\"Class\"] == 0].sample( n = 40000 ).copy()\n",
    "fr1 = df[df[\"Class\"] == 1].copy()\n",
    "\n",
    "drop_arr = [ \"Time\", \"V13\", \"V15\", \"V24\", \"V25\" ]\n",
    "\n",
    "df=pd.concat([fr0, fr1]).drop(drop_arr, 1)\n",
    "\n",
    "# shuffle the data frame\n",
    "df = df.sample(frac=1).reset_index(drop=True)\n",
    "\n",
    "Vfeat = df.drop([\"Amount\", \"Class\"], 1).values\n",
    "fraud = df[\"Class\"].values\n",
    "amoun = df[\"Amount\"].values"
   ]
  },
  {
   "cell_type": "code",
   "execution_count": 10,
   "metadata": {},
   "outputs": [
    {
     "name": "stdout",
     "output_type": "stream",
     "text": [
      "Recall: 0.96\tAccuracy: 1.00\tF1 Score: 0.86\t|   Abs. Err.: 90.7\t Sq. Err.: 82127.7 Root of Sq. Err.: 286.6\n"
     ]
    }
   ],
   "source": [
    "from sklearn.model_selection import KFold\n",
    "from sklearn.metrics import recall_score, accuracy_score, f1_score, mean_absolute_error, mean_squared_error\n",
    "\n",
    "kf = KFold( n_splits = 4, shuffle = True )\n",
    "\n",
    "rec, acc, f1, ab_err, sq_err = [], [], [], [], []\n",
    "\n",
    "for train_index, test_index in kf.split( Vfeat ):                \n",
    "    \n",
    "    xtrain, xtest = Vfeat[train_index], Vfeat[test_index]\n",
    "    \n",
    "    yfraud_train, yfraud_test = fraud[train_index], fraud[test_index]\n",
    "    \n",
    "    yamoun_train, yamoun_test = amoun[train_index], amoun[test_index]\n",
    "     \n",
    "    fd = FraudDetector()\n",
    "    fd.fit( xtrain, yfraud_train, yamoun_train )\n",
    "    \n",
    "    yfraud_pred, yamoun_pred = fd.predict( xtest )\n",
    "            \n",
    "    rec.append( recall_score( yfraud_pred, yfraud_test ) )\n",
    "    acc.append( accuracy_score( yfraud_pred, yfraud_test ) )\n",
    "    f1.append( f1_score( yfraud_pred, yfraud_test ) )\n",
    "    \n",
    "    ab_err.append( mean_absolute_error( yamoun_pred, yamoun_test ) )\n",
    "    sq_err.append( mean_squared_error( yamoun_pred, yamoun_test ) )\n",
    "\n",
    "print(\"Recall: %.2f\\tAccuracy: %.2f\\tF1 Score: %.2f\\t|   Abs. Err.: %.1f\\t Sq. Err.: %.1f Root of Sq. Err.: %.1f\"\n",
    "     % ( np.mean(rec), np.mean(acc), np.mean(f1), np.mean(ab_err), np.mean(sq_err), np.mean(sq_err)**0.5 )\n",
    "     )"
   ]
  }
 ],
 "metadata": {
  "kernelspec": {
   "display_name": "Python 3",
   "language": "python",
   "name": "python3"
  },
  "language_info": {
   "codemirror_mode": {
    "name": "ipython",
    "version": 3
   },
   "file_extension": ".py",
   "mimetype": "text/x-python",
   "name": "python",
   "nbconvert_exporter": "python",
   "pygments_lexer": "ipython3",
   "version": "3.6.1"
  }
 },
 "nbformat": 4,
 "nbformat_minor": 2
}
