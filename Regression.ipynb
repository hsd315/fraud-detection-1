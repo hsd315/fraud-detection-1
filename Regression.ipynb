{
 "cells": [
  {
   "cell_type": "code",
   "execution_count": 165,
   "metadata": {
    "collapsed": true
   },
   "outputs": [],
   "source": [
    "import numpy as np\n",
    "import pandas as pd\n",
    "import matplotlib.pyplot as plt\n",
    "import matplotlib.gridspec as gd\n",
    "import seaborn as sns\n",
    "%matplotlib inline\n",
    "\n",
    "np.random.seed(7)\n",
    "df=pd.read_csv(\"data.csv\")\n",
    "\n",
    "fr0 = df[df[\"Class\"] == 0].sample( n=492 ).copy()\n",
    "fr1 = df[df[\"Class\"] == 1].copy()\n",
    "\n",
    "drop_arr = [ \"Time\", \"V13\", \"V15\", \"V24\", \"V25\" ]\n",
    "#drop_arr = [ \"Time\" ]\n",
    "\n",
    "df=pd.concat([fr0, fr1]).drop(drop_arr, 1)\n",
    "\n",
    "# prepare data for amount prediction\n",
    "\n",
    "ami = df[df[\"Class\"] == 1].drop([\"Amount\", \"Class\"], 1).values\n",
    "amo = df[df[\"Class\"] == 1][\"Amount\"].values\n",
    "\n",
    "amo2 = np.log(amo+1)"
   ]
  },
  {
   "cell_type": "markdown",
   "metadata": {},
   "source": [
    "Parameter tuning"
   ]
  },
  {
   "cell_type": "code",
   "execution_count": 166,
   "metadata": {
    "collapsed": true
   },
   "outputs": [],
   "source": [
    "from sklearn.model_selection import KFold\n",
    "from sklearn.metrics import mean_absolute_error, mean_squared_error\n",
    "\n",
    "import xgboost\n",
    "\n",
    "kf = KFold( n_splits = 4, shuffle = True )\n",
    "\n",
    "estim_col, depth_col, child_col, learninig_rate_col, gamma_col, abs_err1, squ_err1, abs_err2, squ_err2 = [],[],[],[],[],[],[],[],[]\n",
    "\n",
    "for estim in [ 50, 100, 200, 400 ]:\n",
    "    for depth in [ 3, 5, 7, 8, 9 ]:\n",
    "        for child in [ 1, 3, 5, 7 ]:\n",
    "            for learning_rate in [ 0.01, 0.1, 0.5 ]:\n",
    "                for gamma in [ 0, 0.01, 0.1, 1, 10 ]:\n",
    "\n",
    "                    abs_res1, abs_res2, squ_res1, squ_res2 = [], [], [], []\n",
    "\n",
    "                    for train_index, test_index in kf.split( ami ):\n",
    "                    \n",
    "                        xtrain,  xtest = ami[train_index], ami[test_index]\n",
    "                        ytrain1, ytest = amo[train_index], amo[test_index]\n",
    "                        ytrain2        = amo2[train_index]\n",
    "            \n",
    "                        # first method\n",
    "                        xgreg1 = xgboost.XGBRegressor( n_estimators = estim, max_depth = depth, min_child_weight = child, \n",
    "                                                  learning_rate = learning_rate, gamma = gamma )\n",
    "                        xgreg1.fit( xtrain, ytrain1 )      \n",
    "                        ypred1 = xgreg1.predict( xtest )\n",
    "            \n",
    "                        abs_res1.append( mean_absolute_error( ypred1, ytest ) )\n",
    "                        squ_res1.append( mean_squared_error(  ypred1, ytest ) )\n",
    "            \n",
    "                        # second method\n",
    "            \n",
    "                        xgreg2 = xgboost.XGBRegressor( n_estimators = estim, max_depth = depth, min_child_weight = child, \n",
    "                                                  learning_rate = learning_rate, gamma = gamma )\n",
    "                        xgreg2.fit( xtrain, ytrain2 )\n",
    "                        ypred2 = xgreg2.predict( xtest )\n",
    "            \n",
    "                        ypred2 = np.exp( ypred2 ) - 1\n",
    "            \n",
    "                        abs_res2.append( mean_absolute_error( ypred2, ytest ) )\n",
    "                        squ_res2.append( mean_squared_error(  ypred2, ytest ) )\n",
    "            \n",
    "                    estim_col.append(estim)\n",
    "                    depth_col.append(depth)\n",
    "                    child_col.append(child)\n",
    "                    learninig_rate_col.append(learning_rate)\n",
    "                    gamma_col.append(gamma)\n",
    "                \n",
    "                    abs_err1.append( np.mean( abs_res1 ) )\n",
    "                    abs_err2.append( np.mean( abs_res2 ) )\n",
    "                    squ_err1.append( np.mean( squ_res1 ) )\n",
    "                    squ_err2.append( np.mean( squ_res2 ) )"
   ]
  },
  {
   "cell_type": "code",
   "execution_count": 167,
   "metadata": {
    "collapsed": true
   },
   "outputs": [],
   "source": [
    "fit_res = pd.DataFrame( \n",
    "    np.array( [ estim_col, depth_col, child_col, learninig_rate_col, gamma_col, abs_err1, squ_err1, abs_err2, squ_err2 ]).transpose(),\n",
    "    columns = [ \"estim\", \"depth\", \"child\", \"lrate\", \"gamma\", \"abs1\", \"squ1\", \"abs2\", \"squ2\" ] )\n",
    "\n",
    "fit_res = fit_res.round(1)"
   ]
  },
  {
   "cell_type": "markdown",
   "metadata": {},
   "source": [
    "Is it worth to use second method?"
   ]
  },
  {
   "cell_type": "code",
   "execution_count": 170,
   "metadata": {},
   "outputs": [
    {
     "name": "stdout",
     "output_type": "stream",
     "text": [
      "0.05\n"
     ]
    }
   ],
   "source": [
    "print( \"%.2f\" % ( (fit_res[\"abs1\"] > fit_res[\"abs2\"]).sum() /  fit_res.size ) )"
   ]
  },
  {
   "cell_type": "markdown",
   "metadata": {},
   "source": [
    "Find \"best\" parameters for regressor:"
   ]
  },
  {
   "cell_type": "code",
   "execution_count": 171,
   "metadata": {},
   "outputs": [
    {
     "data": {
      "text/html": [
       "<div>\n",
       "<style>\n",
       "    .dataframe thead tr:only-child th {\n",
       "        text-align: right;\n",
       "    }\n",
       "\n",
       "    .dataframe thead th {\n",
       "        text-align: left;\n",
       "    }\n",
       "\n",
       "    .dataframe tbody tr th {\n",
       "        vertical-align: top;\n",
       "    }\n",
       "</style>\n",
       "<table border=\"1\" class=\"dataframe\">\n",
       "  <thead>\n",
       "    <tr style=\"text-align: right;\">\n",
       "      <th></th>\n",
       "      <th>estim</th>\n",
       "      <th>depth</th>\n",
       "      <th>child</th>\n",
       "      <th>lrate</th>\n",
       "      <th>gamma</th>\n",
       "      <th>abs1</th>\n",
       "      <th>squ1</th>\n",
       "      <th>abs2</th>\n",
       "      <th>squ2</th>\n",
       "    </tr>\n",
       "  </thead>\n",
       "  <tbody>\n",
       "    <tr>\n",
       "      <th>982</th>\n",
       "      <td>400.0</td>\n",
       "      <td>5.0</td>\n",
       "      <td>3.0</td>\n",
       "      <td>0.1</td>\n",
       "      <td>0.1</td>\n",
       "      <td>63.6</td>\n",
       "      <td>17183.3</td>\n",
       "      <td>71.7</td>\n",
       "      <td>30916.6</td>\n",
       "    </tr>\n",
       "    <tr>\n",
       "      <th>665</th>\n",
       "      <td>200.0</td>\n",
       "      <td>5.0</td>\n",
       "      <td>1.0</td>\n",
       "      <td>0.1</td>\n",
       "      <td>0.0</td>\n",
       "      <td>63.7</td>\n",
       "      <td>17546.8</td>\n",
       "      <td>67.7</td>\n",
       "      <td>30489.7</td>\n",
       "    </tr>\n",
       "    <tr>\n",
       "      <th>683</th>\n",
       "      <td>200.0</td>\n",
       "      <td>5.0</td>\n",
       "      <td>3.0</td>\n",
       "      <td>0.1</td>\n",
       "      <td>1.0</td>\n",
       "      <td>64.4</td>\n",
       "      <td>20099.9</td>\n",
       "      <td>69.1</td>\n",
       "      <td>29200.2</td>\n",
       "    </tr>\n",
       "    <tr>\n",
       "      <th>1160</th>\n",
       "      <td>400.0</td>\n",
       "      <td>9.0</td>\n",
       "      <td>3.0</td>\n",
       "      <td>0.1</td>\n",
       "      <td>0.0</td>\n",
       "      <td>64.5</td>\n",
       "      <td>18884.5</td>\n",
       "      <td>64.3</td>\n",
       "      <td>25533.4</td>\n",
       "    </tr>\n",
       "    <tr>\n",
       "      <th>907</th>\n",
       "      <td>400.0</td>\n",
       "      <td>3.0</td>\n",
       "      <td>1.0</td>\n",
       "      <td>0.1</td>\n",
       "      <td>0.1</td>\n",
       "      <td>64.7</td>\n",
       "      <td>17819.0</td>\n",
       "      <td>81.7</td>\n",
       "      <td>75751.7</td>\n",
       "    </tr>\n",
       "    <tr>\n",
       "      <th>607</th>\n",
       "      <td>200.0</td>\n",
       "      <td>3.0</td>\n",
       "      <td>1.0</td>\n",
       "      <td>0.1</td>\n",
       "      <td>0.1</td>\n",
       "      <td>64.9</td>\n",
       "      <td>16916.8</td>\n",
       "      <td>76.8</td>\n",
       "      <td>40856.0</td>\n",
       "    </tr>\n",
       "    <tr>\n",
       "      <th>759</th>\n",
       "      <td>200.0</td>\n",
       "      <td>7.0</td>\n",
       "      <td>5.0</td>\n",
       "      <td>0.1</td>\n",
       "      <td>10.0</td>\n",
       "      <td>65.0</td>\n",
       "      <td>18264.8</td>\n",
       "      <td>84.4</td>\n",
       "      <td>44398.5</td>\n",
       "    </tr>\n",
       "    <tr>\n",
       "      <th>624</th>\n",
       "      <td>200.0</td>\n",
       "      <td>3.0</td>\n",
       "      <td>3.0</td>\n",
       "      <td>0.1</td>\n",
       "      <td>10.0</td>\n",
       "      <td>65.1</td>\n",
       "      <td>17820.7</td>\n",
       "      <td>86.3</td>\n",
       "      <td>40132.0</td>\n",
       "    </tr>\n",
       "  </tbody>\n",
       "</table>\n",
       "</div>"
      ],
      "text/plain": [
       "      estim  depth  child  lrate  gamma  abs1     squ1  abs2     squ2\n",
       "982   400.0    5.0    3.0    0.1    0.1  63.6  17183.3  71.7  30916.6\n",
       "665   200.0    5.0    1.0    0.1    0.0  63.7  17546.8  67.7  30489.7\n",
       "683   200.0    5.0    3.0    0.1    1.0  64.4  20099.9  69.1  29200.2\n",
       "1160  400.0    9.0    3.0    0.1    0.0  64.5  18884.5  64.3  25533.4\n",
       "907   400.0    3.0    1.0    0.1    0.1  64.7  17819.0  81.7  75751.7\n",
       "607   200.0    3.0    1.0    0.1    0.1  64.9  16916.8  76.8  40856.0\n",
       "759   200.0    7.0    5.0    0.1   10.0  65.0  18264.8  84.4  44398.5\n",
       "624   200.0    3.0    3.0    0.1   10.0  65.1  17820.7  86.3  40132.0"
      ]
     },
     "execution_count": 171,
     "metadata": {},
     "output_type": "execute_result"
    }
   ],
   "source": [
    "fit_res.sort_values(\"abs1\").head(n=8)"
   ]
  },
  {
   "cell_type": "markdown",
   "metadata": {},
   "source": [
    "Out of curiosity, we can check what features are most important"
   ]
  },
  {
   "cell_type": "code",
   "execution_count": 142,
   "metadata": {},
   "outputs": [
    {
     "data": {
      "text/plain": [
       "<matplotlib.text.Text at 0x7fd9131ad6a0>"
      ]
     },
     "execution_count": 142,
     "metadata": {},
     "output_type": "execute_result"
    },
    {
     "name": "stderr",
     "output_type": "stream",
     "text": [
      "/home/pawel/anaconda3/envs/fraud_detection/lib/python3.6/site-packages/matplotlib/font_manager.py:1297: UserWarning: findfont: Font family ['sans-serif'] not found. Falling back to DejaVu Sans\n",
      "  (prop.get_family(), self.defaultFamily[fontext]))\n"
     ]
    },
    {
     "data": {
      "image/png": "[encoded data removed]",
      "text/plain": [
       "<matplotlib.figure.Figure at 0x7fd9131bef28>"
      ]
     },
     "metadata": {},
     "output_type": "display_data"
    }
   ],
   "source": [
    "feat_imp = pd.Series(xgreg.booster().get_fscore()).sort_values(ascending=False)\n",
    "feat_imp.plot(kind='bar', title='Feature Importance')\n",
    "plt.xlabel('Feature')\n",
    "plt.ylabel('Score')"
   ]
  }
 ],
 "metadata": {
  "kernelspec": {
   "display_name": "Python 3",
   "language": "python",
   "name": "python3"
  },
  "language_info": {
   "codemirror_mode": {
    "name": "ipython",
    "version": 3
   },
   "file_extension": ".py",
   "mimetype": "text/x-python",
   "name": "python",
   "nbconvert_exporter": "python",
   "pygments_lexer": "ipython3",
   "version": "3.6.1"
  }
 },
 "nbformat": 4,
 "nbformat_minor": 2
}
